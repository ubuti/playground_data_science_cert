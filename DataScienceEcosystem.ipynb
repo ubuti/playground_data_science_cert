{
 "cells": [
  {
   "cell_type": "markdown",
   "metadata": {},
   "source": [
    "# Data Science Tools and Ecosystem"
   ]
  },
  {
   "cell_type": "markdown",
   "metadata": {},
   "source": [
    "In this notebook, Data Science Tools and Ecosystem are summarized."
   ]
  },
  {
   "cell_type": "markdown",
   "metadata": {},
   "source": [
    "Most languages in data science:\n",
    "\n",
    "1. Pytoon\n",
    "2. Julia\n",
    "3. R\n",
    "\n",
    "4. Matlab"
   ]
  },
  {
   "cell_type": "markdown",
   "metadata": {},
   "source": [
    "Some of the commonly used libraries used by Data Scientists include:\n",
    "\n",
    "1. Pandas\n",
    "2. Numpy\n",
    "3. Seaborn\n",
    "\n",
    "4. ggplot\n",
    "5. plotly"
   ]
  },
  {
   "cell_type": "markdown",
   "metadata": {},
   "source": [
    "| DS Tools (IDEs) |\n",
    "------------\n",
    "| Spyder |\n",
    "| RStudio |\n",
    "| Colab |\n",
    "| Jupyter lab |\n",
    "| VSC |\n",
    "| PyCharm | \n",
    "| Eclipse | \n",
    "| BlueJ |"
   ]
  },
  {
   "cell_type": "markdown",
   "metadata": {},
   "source": []
  }
 ],
 "metadata": {
  "language_info": {
   "name": "python"
  }
 },
 "nbformat": 4,
 "nbformat_minor": 2
}
